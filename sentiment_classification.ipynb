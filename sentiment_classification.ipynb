{
 "cells": [
  {
   "cell_type": "markdown",
   "metadata": {},
   "source": [
    "## Sentiment Classification: classifying IMDB reviews\n",
    "\n",
    "In this task, you will learn how to process text data and how to train neural networks with limited input text data using pre-trained embeddings for sentiment classification (classifying a review document as \"positive\" or \"negative\" based solely on the text content of the review)."
   ]
  },
  {
   "cell_type": "markdown",
   "metadata": {},
   "source": [
    "We will use the `Embedding` layer in Keras to represent text input. The `Embedding` layer is best understood as a dictionary mapping integer indices (which stand for specific words) to dense vectors. It takes as input integers, then looks up these integers into an internal dictionary, and finally returns the associated vectors. It's effectively a dictionary lookup.\n",
    "\n",
    "The `Embedding` layer takes as input a 2D tensor of integers, of shape `(samples, sequence_length)`, where each entry is a sequence of integers. It can embed sequences of variable lengths, so for instance we could feed into our embedding layer above batches that could have  shapes `(32, 10)` (batch of 32 sequences of length 10) or `(64, 15)` (batch of 64 sequences of length 15). All sequences in a batch must have the same length, though (since we need to pack them into a single tensor), so sequences that are shorter than others should be padded with zeros, and sequences that are longer should be truncated.\n",
    "\n",
    "This layer returns a 3D floating point tensor, of shape `(samples, sequence_length, embedding_dimensionality)`. Such a 3D tensor can then be processed by a RNN layer or a 1D convolution layer.\n",
    "\n",
    "You can instantiate the `Embedding` layer by randomly initialising its weights (its internal dictionary of token vectors). During training, these word vectors will be gradually adjusted via backpropagation, structuring the space into something that the downstream model can exploit. Once fully trained, your embedding space will show a lot of structure -- a kind of structure specialized for the specific problem you were training your model for. You can also instantiate the `Embedding` layer by intialising its weights using the pre-trained word embeddings, such as GloVe word embeddings pretrained from Wikipedia articles."
   ]
  },
  {
   "cell_type": "markdown",
   "metadata": {},
   "source": [
    "#### a) Download the IMDB data as raw text\n",
    "\n",
    "First, create a \"data\" directory, then head to `http://ai.stanford.edu/~amaas/data/sentiment/` and download the raw IMDB dataset (if the URL isn't working anymore, just Google \"IMDB dataset\"). Save it into the \"data\" directory. Uncompress it. Store the individual reviews into a list of strings, one string per review, and also collect the review labels (positive / negative) into a separate `labels` list."
   ]
  },
  {
   "cell_type": "code",
   "execution_count": 26,
   "metadata": {},
   "outputs": [],
   "source": [
    "import os\n",
    "import pandas as pd\n",
    "from pathlib import Path\n",
    "#NOTE: Assuming same directory structure as the one from the stanford link\n",
    "TRAIN_DIR = \"./aclImdb/train/\"\n",
    "TEST_DIR = \"./aclImdb/test/\"\n",
    "\n",
    "#Use dataframes to store the parsed data\n",
    "train = pd.DataFrame(data=None, columns=[\"text\", \"class\"])\n",
    "test = pd.DataFrame(data=None, columns=[\"text\", \"class\"])\n",
    "\n",
    "#For each pos/neg folder, read the review as a string, and add to the appropriate dataframe with the correct class label\n",
    "for file in os.listdir(TRAIN_DIR+\"pos\"):\n",
    "    text=Path(TRAIN_DIR+\"pos/\"+file).read_text()\n",
    "    train = train.append({\"text\":text, \"class\": \"positive\"}, ignore_index=True)\n",
    "    \n",
    "for file in os.listdir(TRAIN_DIR+\"neg\"):\n",
    "    text=Path(TRAIN_DIR+\"neg/\"+file).read_text()\n",
    "    train = train.append({\"text\":text, \"class\": \"negative\"}, ignore_index=True)\n",
    "\n",
    "for file in os.listdir(TEST_DIR+\"pos\"):\n",
    "    text=Path(TEST_DIR+\"pos/\"+file).read_text()\n",
    "    test = test.append({\"text\":text, \"class\": \"positive\"}, ignore_index=True)\n",
    "    \n",
    "for file in os.listdir(TEST_DIR+\"neg\"):\n",
    "    text=Path(TEST_DIR+\"neg/\"+file).read_text()\n",
    "    test = test.append({\"text\":text, \"class\": \"negative\"}, ignore_index=True)\n",
    "    \n"
   ]
  },
  {
   "cell_type": "markdown",
   "metadata": {},
   "source": [
    "#### b) Pre-process the review documents \n",
    "\n",
    "Pre-process review documents by tokenisation and split the data into the training and testing sets. You can restrict the training data to the first 1000 reviews and only consider the top 5,000 words in the dataset. You can also cut reviews after 100 words (that is, each review contains a maximum of 100 words)."
   ]
  },
  {
   "cell_type": "code",
   "execution_count": 34,
   "metadata": {
    "scrolled": false
   },
   "outputs": [
    {
     "name": "stdout",
     "output_type": "stream",
     "text": [
      "                                                    text     class\n",
      "0      One of THE comedies of the 1970's. Also has th...  positive\n",
      "1      This movie was excellent for the following rea...  positive\n",
      "2      Wonderfully put together..I wish there was a f...  positive\n",
      "3      Worry not, Disney fans--this special edition D...  positive\n",
      "4      Of those comments here before mine, I mostly a...  positive\n",
      "5      A few summer space campers actually were accid...  positive\n",
      "6      This has got to be one of my very favorite Twi...  positive\n",
      "7      This film is like an allegory of the gospel. I...  positive\n",
      "8      The Bourne Ultimatum is the third and final ou...  positive\n",
      "9      Until I saw this special on HBO, I had never h...  positive\n",
      "10     A fine Martino outing, this is a spirited and ...  positive\n",
      "11     whereas the hard-boiled detective stories of D...  positive\n",
      "12     Gentleman Jim is another case of print the leg...  positive\n",
      "13     I really like Star Trek Hidden Frontier it is ...  positive\n",
      "14     Really good horror flick featuring to of the g...  positive\n",
      "15     This police procedural is no worse than many o...  positive\n",
      "16     Yes, I'm sentimental & schmaltzy!! But this mo...  positive\n",
      "17     I watched FIDO on some movie channel and I hav...  positive\n",
      "18     This movie is amazing for several reasons. Har...  positive\n",
      "19     It seemed as though the year 1984 was anything...  positive\n",
      "20     JAMES STEWART plays an FBI agent who began wor...  positive\n",
      "21     In August 1980 the disappearance of baby Azari...  positive\n",
      "22     Being a person who does not usually enjoy boxi...  positive\n",
      "23     *SPOILERS*<br /><br />This is only the second ...  positive\n",
      "24     My Tutor Friend is a well scripted romance com...  positive\n",
      "25     \"Once in the life\" is a very good movie. Howev...  positive\n",
      "26     A terrorist attempts to steal a top secret bio...  positive\n",
      "27     I grew up with H.R. Pufnstuff and the dashingl...  positive\n",
      "28     Well i do disagreed with the other comment pos...  positive\n",
      "29     what can i say?, ms Erika Eleniak is my favori...  positive\n",
      "...                                                  ...       ...\n",
      "24970  As others have mentioned, this movie is simila...  negative\n",
      "24971  I don't know anything of the writer's or the d...  negative\n",
      "24972  This may or may not be the worst movie that St...  negative\n",
      "24973  I expected a comedy like the \"Big Mama\" movies...  negative\n",
      "24974  The Underground Comedy movie is perhaps one of...  negative\n",
      "24975  The Little Mermaid is one of my absolute favor...  negative\n",
      "24976  The movie is pretty funny and involving for ab...  negative\n",
      "24977  At first the movie seemed to be doing great, t...  negative\n",
      "24978  This movie was long and boring. Surprising tha...  negative\n",
      "24979  Worst movie I have seen since Gingerale Aftern...  negative\n",
      "24980  Mere thoughts of \"Going Overboard\" (aka \"Babes...  negative\n",
      "24981  Joe Don's opening line says everything about t...  negative\n",
      "24982  This is one of those awful, sex-driven B-movie...  negative\n",
      "24983  As a Native film professor, I can honestly say...  negative\n",
      "24984  I'm at this very moment debating whether I sho...  negative\n",
      "24985  It is true that some fans of Peter Sellers wor...  negative\n",
      "24986  The American Humane Association, which is the ...  negative\n",
      "24987  The End of Violence and certainly the Million ...  negative\n",
      "24988  Some wonder why there weren't anymore Mrs. Mur...  negative\n",
      "24989  Who? What? Where? When? Why? The acting was te...  negative\n",
      "24990  A warning to you not to be seduced by the name...  negative\n",
      "24991  I should have figured that any movie with the ...  negative\n",
      "24992  I have seen many a horror flick in my time, al...  negative\n",
      "24993  So, this movie has been hailed, glorified, and...  negative\n",
      "24994  The fact that I did not like the music is a ve...  negative\n",
      "24995  This service comedy, for which Peter Marshall ...  negative\n",
      "24996  Sorry, but aside from Kim Basinger doing a goo...  negative\n",
      "24997  This was a really funny movie.<br /><br />Ever...  negative\n",
      "24998  I saw this film at a pre-release screening at ...  negative\n",
      "24999  This movie starts out promisingly, with an ear...  negative\n",
      "\n",
      "[1000 rows x 2 columns]\n"
     ]
    }
   ],
   "source": [
    "from keras.preprocessing.text import Tokenizer\n",
    "from keras.preprocessing.sequence import pad_sequences\n",
    "import numpy as np\n",
    "\n",
    "POS_VALUE = 1\n",
    "NEG_VALUE = 0\n",
    "\n",
    "#Initialise the tokeniser with a max vocab size and fit it on the training data\n",
    "VOCAB_SIZE = 5000\n",
    "tokeniser = Tokenizer(num_words=VOCAB_SIZE)\n",
    "tokeniser.fit_on_texts(train[\"text\"])\n",
    "\n",
    "#print(train)\n",
    "#print(test)\n",
    "\n",
    "train_data = train.copy()\n",
    "test_data = test.copy()\n",
    "\n",
    "#Take the first 500 positive and first 500 negative reviews as training data\n",
    "train_data = train_data.head(500).append(train_data.tail(500))\n",
    "\n",
    "#Convert the data into integer tokens\n",
    "train_data[\"text\"] = tokeniser.texts_to_sequences(train_data[\"text\"])\n",
    "#Use pad_sequences to pad/truncate the tokenised reviews and convert data to a list instead of a dataframe\n",
    "x_train = pad_sequences(train_data[\"text\"], 100, dtype=\"int32\", padding=\"post\", truncating=\"post\", value=0)\n",
    "#Convert the class labels to 0 or 1 and convert to a simple list again\n",
    "train_data[\"class\"] = train_data[\"class\"].apply(lambda x: POS_VALUE if x == \"positive\" else NEG_VALUE)\n",
    "y_train = train_data[\"class\"].values\n",
    "\n",
    "test_data[\"text\"] = tokeniser.texts_to_sequences(test_data[\"text\"])\n",
    "x_test = pad_sequences(test_data[\"text\"], maxlen=100, dtype=\"int32\", padding=\"post\", truncating=\"post\", value=0)\n",
    "test_data[\"class\"] = test_data[\"class\"].apply(lambda x: 1 if x == \"positive\" else 0)\n",
    "y_test = test_data[\"class\"].values\n",
    "\n",
    "# write your code here"
   ]
  },
  {
   "cell_type": "markdown",
   "metadata": {},
   "source": [
    "#### c) Download the GloVe word embeddings and map each word in the dataset into its pre-trained GloVe word embedding.\n",
    "\n",
    "First go to `https://nlp.stanford.edu/projects/glove/` and download the pre-trained \n",
    "embeddings from 2014 English Wikipedia into the \"data\" directory. It's a 822MB zip file named `glove.6B.zip`, containing 100-dimensional embedding vectors for \n",
    "400,000 words (or non-word tokens). Un-zip it.\n",
    "\n",
    "Parse the un-zipped file (it's a `txt` file) to build an index mapping words (as strings) to their vector representation (as number vectors).\n",
    "\n",
    "Build an embedding matrix that will be loaded into an `Embedding` layer later. It must be a matrix of shape `(max_words, embedding_dim)`, where each entry `i` contains the `embedding_dim`-dimensional vector for the word of index `i` in our reference word index \n",
    "(built during tokenization). Note that the index `0` is not supposed to stand for any word or token -- it's a placeholder."
   ]
  },
  {
   "cell_type": "code",
   "execution_count": 36,
   "metadata": {},
   "outputs": [
    {
     "name": "stdout",
     "output_type": "stream",
     "text": [
      "Loading Glove Model\n",
      "Done. 400000  words loaded!\n"
     ]
    }
   ],
   "source": [
    "# write your code here\n",
    "import numpy as np\n",
    "\n",
    "#Load and parse the glove embeddings into a dictionary\n",
    "def loadGloveModel(gloveFile):\n",
    "    print(\"Loading Glove Model\")\n",
    "    f = open(gloveFile,'r')\n",
    "    model = {}\n",
    "    for line in f:\n",
    "        splitLine = line.split()\n",
    "        word = splitLine[0]\n",
    "        embedding = np.array([float(val) for val in splitLine[1:]])\n",
    "        model[word] = embedding\n",
    "    print(\"Done.\",len(model),\" words loaded!\")\n",
    "    return model\n",
    "\n",
    "embedding_index = loadGloveModel(\"glove.6B.100d.txt\")\n",
    "#Initialise the embedding matrix\n",
    "embedding_matrix = np.zeros((VOCAB_SIZE+1, 100))\n",
    "#Trucate the tokeniser dictionary to only the first 5000 entries\n",
    "tokeniser.word_index = dict(list(tokeniser.word_index.items())[:VOCAB_SIZE])\n",
    "\n",
    "#Build the embedding matrix\n",
    "for word, i in tokeniser.word_index.items():\n",
    "    embedding_vector = embedding_index.get(word)\n",
    "    if embedding_vector is not None:\n",
    "        embedding_matrix[i] = embedding_vector\n",
    "\n"
   ]
  },
  {
   "cell_type": "markdown",
   "metadata": {},
   "source": [
    "#### d) Build and train a simple Sequential model\n",
    "\n",
    "The model contains an Embedding Layer with maximum number of tokens to be 10,000 and embedding dimensionality as 100. Initialise the Embedding Layer with the pre-trained GloVe word vectors. Set the maximum length of each review to 100. Flatten the 3D embedding output to 2D and add a Dense Layer which is the classifier. Train the model with a 'rmsprop' optimiser. You need to freeze the embedding layer by setting its `trainable` attribute to `False` so that its weights will not be updated during training."
   ]
  },
  {
   "cell_type": "code",
   "execution_count": 37,
   "metadata": {
    "scrolled": false
   },
   "outputs": [
    {
     "name": "stdout",
     "output_type": "stream",
     "text": [
      "_________________________________________________________________\n",
      "Layer (type)                 Output Shape              Param #   \n",
      "=================================================================\n",
      "embedding_11 (Embedding)     (None, 100, 100)          500100    \n",
      "_________________________________________________________________\n",
      "flatten_8 (Flatten)          (None, 10000)             0         \n",
      "_________________________________________________________________\n",
      "dense_10 (Dense)             (None, 1)                 10001     \n",
      "=================================================================\n",
      "Total params: 510,101\n",
      "Trainable params: 10,001\n",
      "Non-trainable params: 500,100\n",
      "_________________________________________________________________\n",
      "None\n",
      "Epoch 1/30\n",
      "1000/1000 [==============================] - 1s 697us/step - loss: 0.9079 - acc: 0.5100\n",
      "Epoch 2/30\n",
      "1000/1000 [==============================] - 0s 31us/step - loss: 0.6102 - acc: 0.6610\n",
      "Epoch 3/30\n",
      "1000/1000 [==============================] - 0s 29us/step - loss: 0.4664 - acc: 0.7740\n",
      "Epoch 4/30\n",
      "1000/1000 [==============================] - 0s 31us/step - loss: 0.3986 - acc: 0.8130\n",
      "Epoch 5/30\n",
      "1000/1000 [==============================] - 0s 29us/step - loss: 0.3207 - acc: 0.8760\n",
      "Epoch 6/30\n",
      "1000/1000 [==============================] - 0s 26us/step - loss: 0.2643 - acc: 0.9090\n",
      "Epoch 7/30\n",
      "1000/1000 [==============================] - 0s 28us/step - loss: 0.2110 - acc: 0.9500\n",
      "Epoch 8/30\n",
      "1000/1000 [==============================] - 0s 27us/step - loss: 0.1783 - acc: 0.9580\n",
      "Epoch 9/30\n",
      "1000/1000 [==============================] - 0s 28us/step - loss: 0.1558 - acc: 0.9730\n",
      "Epoch 10/30\n",
      "1000/1000 [==============================] - 0s 27us/step - loss: 0.1316 - acc: 0.9830\n",
      "Epoch 11/30\n",
      "1000/1000 [==============================] - 0s 27us/step - loss: 0.1057 - acc: 0.9780\n",
      "Epoch 12/30\n",
      "1000/1000 [==============================] - 0s 28us/step - loss: 0.0817 - acc: 0.9920\n",
      "Epoch 13/30\n",
      "1000/1000 [==============================] - 0s 29us/step - loss: 0.0788 - acc: 0.9940\n",
      "Epoch 14/30\n",
      "1000/1000 [==============================] - 0s 33us/step - loss: 0.0582 - acc: 0.9940\n",
      "Epoch 15/30\n",
      "1000/1000 [==============================] - 0s 28us/step - loss: 0.0470 - acc: 0.9980\n",
      "Epoch 16/30\n",
      "1000/1000 [==============================] - 0s 28us/step - loss: 0.0434 - acc: 1.0000\n",
      "Epoch 17/30\n",
      "1000/1000 [==============================] - 0s 29us/step - loss: 0.0394 - acc: 0.9980\n",
      "Epoch 18/30\n",
      "1000/1000 [==============================] - 0s 28us/step - loss: 0.0304 - acc: 0.9990\n",
      "Epoch 19/30\n",
      "1000/1000 [==============================] - 0s 28us/step - loss: 0.0251 - acc: 1.0000\n",
      "Epoch 20/30\n",
      "1000/1000 [==============================] - 0s 30us/step - loss: 0.0250 - acc: 0.9980\n",
      "Epoch 21/30\n",
      "1000/1000 [==============================] - 0s 34us/step - loss: 0.0215 - acc: 1.0000\n",
      "Epoch 22/30\n",
      "1000/1000 [==============================] - 0s 32us/step - loss: 0.0195 - acc: 0.9980\n",
      "Epoch 23/30\n",
      "1000/1000 [==============================] - 0s 35us/step - loss: 0.0097 - acc: 1.0000\n",
      "Epoch 24/30\n",
      "1000/1000 [==============================] - 0s 31us/step - loss: 0.0139 - acc: 1.0000\n",
      "Epoch 25/30\n",
      "1000/1000 [==============================] - 0s 35us/step - loss: 0.0112 - acc: 1.0000\n",
      "Epoch 26/30\n",
      "1000/1000 [==============================] - 0s 31us/step - loss: 0.0087 - acc: 1.0000\n",
      "Epoch 27/30\n",
      "1000/1000 [==============================] - 0s 31us/step - loss: 0.0074 - acc: 1.0000\n",
      "Epoch 28/30\n",
      "1000/1000 [==============================] - 0s 32us/step - loss: 0.0091 - acc: 1.0000\n",
      "Epoch 29/30\n",
      "1000/1000 [==============================] - 0s 33us/step - loss: 0.0038 - acc: 1.0000\n",
      "Epoch 30/30\n",
      "1000/1000 [==============================] - 0s 28us/step - loss: 0.0079 - acc: 1.0000\n"
     ]
    }
   ],
   "source": [
    "from keras.models import Sequential\n",
    "from keras.layers import Embedding, Flatten, Dense\n",
    "\n",
    "#Sequential model with embedding layer, using the embedding matrix as the weights.\n",
    "model = Sequential()\n",
    "model.add(Embedding(VOCAB_SIZE+1, 100, weights=[embedding_matrix], input_length=100, trainable=False))\n",
    "#Flatted to 2D\n",
    "model.add(Flatten())\n",
    "model.add(Dense(1, activation=\"sigmoid\"))\n",
    "\n",
    "model.compile(optimizer=\"rmsprop\", loss=\"binary_crossentropy\", metrics=[\"accuracy\"])\n",
    "print(model.summary())\n",
    "hist = model.fit(x_train, y_train, epochs=30, verbose=1)"
   ]
  },
  {
   "cell_type": "markdown",
   "metadata": {},
   "source": [
    "#### e) Plot the training and validation loss and accuracies and evaluate the trained model on the test set.\n",
    "\n",
    "What do you observe from the results?"
   ]
  },
  {
   "cell_type": "code",
   "execution_count": 38,
   "metadata": {},
   "outputs": [
    {
     "data": {
      "image/png": "[encoded data removed]",
      "text/plain": [
       "<Figure size 576x432 with 1 Axes>"
      ]
     },
     "metadata": {
      "needs_background": "light"
     },
     "output_type": "display_data"
    },
    {
     "data": {
      "image/png": "[encoded data removed]",
      "text/plain": [
       "<Figure size 576x432 with 1 Axes>"
      ]
     },
     "metadata": {
      "needs_background": "light"
     },
     "output_type": "display_data"
    },
    {
     "name": "stdout",
     "output_type": "stream",
     "text": [
      "25000/25000 [==============================] - 1s 23us/step\n",
      "Accuracy on test set: 60.156000\n",
      "              precision    recall  f1-score   support\n",
      "\n",
      "           0       0.60      0.62      0.61     12500\n",
      "           1       0.61      0.58      0.59     12500\n",
      "\n",
      "   micro avg       0.60      0.60      0.60     25000\n",
      "   macro avg       0.60      0.60      0.60     25000\n",
      "weighted avg       0.60      0.60      0.60     25000\n",
      "\n",
      "[[7800 4700]\n",
      " [5261 7239]]\n"
     ]
    }
   ],
   "source": [
    "import matplotlib.pyplot as plt\n",
    "from sklearn.metrics import classification_report, confusion_matrix\n",
    "\n",
    "#Plot the loss curve on training data\n",
    "plt.figure(figsize=[8,6])\n",
    "plt.plot(hist.history['loss'],'r',linewidth=3.0)\n",
    "#plt.plot(hist.history['val_loss'],'b',linewidth=3.0)\n",
    "plt.legend(['Training loss'],fontsize=12)\n",
    "plt.xlabel('Epochs ',fontsize=12)\n",
    "plt.ylabel('Loss',fontsize=12)\n",
    "plt.title('Loss Curves',fontsize=16)\n",
    "plt.show()\n",
    "\n",
    "#Plot the accuracy curve on training data\n",
    "plt.figure(figsize=[8,6])\n",
    "plt.plot(hist.history['acc'],'r',linewidth=3.0)\n",
    "#plt.plot(hist.history['val_acc'],'b',linewidth=3.0)\n",
    "plt.legend(['Training Accuracy'],fontsize=12)\n",
    "plt.xlabel('Epochs ',fontsize=12)\n",
    "plt.ylabel('Accuracy',fontsize=12)\n",
    "plt.title('Accuracy Curves',fontsize=16)\n",
    "plt.show()\n",
    "\n",
    "\n",
    "loss, accuracy = model.evaluate(x_test, y_test, verbose=1)\n",
    "print('Accuracy on test set: %f' % (accuracy*100))\n",
    "\n",
    "preds = model.predict_classes(x_test)\n",
    "print (classification_report(y_test, preds))\n",
    "print(confusion_matrix(y_test, preds))\n",
    "\n",
    "# write your code here"
   ]
  },
  {
   "cell_type": "markdown",
   "metadata": {},
   "source": [
    "#### f) Add an LSTM layer into the simple neural network architecture and re-train the model on the training set, plot the training and validation loss/accuracies, also evaluate the trained model on the test set and report the result."
   ]
  },
  {
   "cell_type": "code",
   "execution_count": 42,
   "metadata": {},
   "outputs": [
    {
     "name": "stdout",
     "output_type": "stream",
     "text": [
      "_________________________________________________________________\n",
      "Layer (type)                 Output Shape              Param #   \n",
      "=================================================================\n",
      "embedding_14 (Embedding)     (None, 100, 100)          500100    \n",
      "_________________________________________________________________\n",
      "lstm_7 (LSTM)                (None, 100)               80400     \n",
      "_________________________________________________________________\n",
      "dense_12 (Dense)             (None, 1)                 101       \n",
      "=================================================================\n",
      "Total params: 580,601\n",
      "Trainable params: 80,501\n",
      "Non-trainable params: 500,100\n",
      "_________________________________________________________________\n",
      "None\n",
      "Epoch 1/30\n",
      "1000/1000 [==============================] - 2s 2ms/step - loss: 0.6990 - acc: 0.5270\n",
      "Epoch 2/30\n",
      "1000/1000 [==============================] - 1s 943us/step - loss: 0.6750 - acc: 0.5660\n",
      "Epoch 3/30\n",
      "1000/1000 [==============================] - 1s 946us/step - loss: 0.6588 - acc: 0.6100\n",
      "Epoch 4/30\n",
      "1000/1000 [==============================] - 1s 941us/step - loss: 0.6574 - acc: 0.6120\n",
      "Epoch 5/30\n",
      "1000/1000 [==============================] - 1s 956us/step - loss: 0.6340 - acc: 0.6350\n",
      "Epoch 6/30\n",
      "1000/1000 [==============================] - 1s 953us/step - loss: 0.6135 - acc: 0.6490\n",
      "Epoch 7/30\n",
      "1000/1000 [==============================] - 1s 975us/step - loss: 0.6003 - acc: 0.6720\n",
      "Epoch 8/30\n",
      "1000/1000 [==============================] - 1s 954us/step - loss: 0.5806 - acc: 0.6950\n",
      "Epoch 9/30\n",
      "1000/1000 [==============================] - 1s 986us/step - loss: 0.5573 - acc: 0.7080\n",
      "Epoch 10/30\n",
      "1000/1000 [==============================] - 1s 1ms/step - loss: 0.5472 - acc: 0.7230\n",
      "Epoch 11/30\n",
      "1000/1000 [==============================] - 1s 990us/step - loss: 0.5203 - acc: 0.7410\n",
      "Epoch 12/30\n",
      "1000/1000 [==============================] - 1s 997us/step - loss: 0.4999 - acc: 0.7470\n",
      "Epoch 13/30\n",
      "1000/1000 [==============================] - 1s 994us/step - loss: 0.4671 - acc: 0.7820\n",
      "Epoch 14/30\n",
      "1000/1000 [==============================] - 1s 976us/step - loss: 0.4562 - acc: 0.7860\n",
      "Epoch 15/30\n",
      "1000/1000 [==============================] - 1s 999us/step - loss: 0.4144 - acc: 0.8140\n",
      "Epoch 16/30\n",
      "1000/1000 [==============================] - 1s 1ms/step - loss: 0.3728 - acc: 0.8370\n",
      "Epoch 17/30\n",
      "1000/1000 [==============================] - 1s 998us/step - loss: 0.3410 - acc: 0.8580\n",
      "Epoch 18/30\n",
      "1000/1000 [==============================] - 1s 1ms/step - loss: 0.2971 - acc: 0.8790\n",
      "Epoch 19/30\n",
      "1000/1000 [==============================] - 1s 999us/step - loss: 0.2691 - acc: 0.8930\n",
      "Epoch 20/30\n",
      "1000/1000 [==============================] - 1s 1ms/step - loss: 0.2273 - acc: 0.9170\n",
      "Epoch 21/30\n",
      "1000/1000 [==============================] - 1s 956us/step - loss: 0.2086 - acc: 0.9200\n",
      "Epoch 22/30\n",
      "1000/1000 [==============================] - 1s 948us/step - loss: 0.1750 - acc: 0.9350\n",
      "Epoch 23/30\n",
      "1000/1000 [==============================] - 1s 957us/step - loss: 0.1659 - acc: 0.9420\n",
      "Epoch 24/30\n",
      "1000/1000 [==============================] - 1s 961us/step - loss: 0.1554 - acc: 0.9500\n",
      "Epoch 25/30\n",
      "1000/1000 [==============================] - 1s 967us/step - loss: 0.1136 - acc: 0.9660\n",
      "Epoch 26/30\n",
      "1000/1000 [==============================] - 1s 963us/step - loss: 0.1476 - acc: 0.9530\n",
      "Epoch 27/30\n",
      "1000/1000 [==============================] - 1s 998us/step - loss: 0.0991 - acc: 0.9720\n",
      "Epoch 28/30\n",
      "1000/1000 [==============================] - 1s 996us/step - loss: 0.0980 - acc: 0.9690\n",
      "Epoch 29/30\n",
      "1000/1000 [==============================] - 1s 973us/step - loss: 0.0833 - acc: 0.9760\n",
      "Epoch 30/30\n",
      "1000/1000 [==============================] - 1s 969us/step - loss: 0.0744 - acc: 0.9780\n"
     ]
    }
   ],
   "source": [
    "from keras.layers import LSTM\n",
    "\n",
    "\n",
    "model2 = Sequential()\n",
    "model2.add(Embedding(VOCAB_SIZE+1, 100, weights=[embedding_matrix], input_length=100, trainable=False))\n",
    "model2.add(LSTM(100))\n",
    "#model2.add(Flatten())\n",
    "model2.add(Dense(1, activation=\"sigmoid\"))\n",
    "\n",
    "model2.compile(optimizer=\"rmsprop\", loss=\"binary_crossentropy\", metrics=[\"accuracy\"])\n",
    "# write your code here\n",
    "print(model2.summary())\n",
    "hist2 = model2.fit(x_train, y_train, epochs=30, verbose=1)\n",
    "# write your code here"
   ]
  },
  {
   "cell_type": "code",
   "execution_count": 43,
   "metadata": {},
   "outputs": [
    {
     "data": {
      "image/png": "[encoded data removed]",
      "text/plain": [
       "<Figure size 576x432 with 1 Axes>"
      ]
     },
     "metadata": {
      "needs_background": "light"
     },
     "output_type": "display_data"
    },
    {
     "data": {
      "image/png": "[encoded data removed]",
      "text/plain": [
       "<Figure size 576x432 with 1 Axes>"
      ]
     },
     "metadata": {
      "needs_background": "light"
     },
     "output_type": "display_data"
    },
    {
     "name": "stdout",
     "output_type": "stream",
     "text": [
      "25000/25000 [==============================] - 6s 257us/step\n",
      "Accuracy on test set: 65.156000\n"
     ]
    }
   ],
   "source": [
    "plt.figure(figsize=[8,6])\n",
    "plt.plot(hist2.history['loss'],'r',linewidth=3.0)\n",
    "#plt.plot(hist.history['val_loss'],'b',linewidth=3.0)\n",
    "plt.legend(['Training loss'],fontsize=12)\n",
    "plt.xlabel('Epochs ',fontsize=12)\n",
    "plt.ylabel('Loss',fontsize=12)\n",
    "plt.title('Loss Curves',fontsize=16)\n",
    "plt.show()\n",
    "\n",
    "plt.figure(figsize=[8,6])\n",
    "plt.plot(hist2.history['acc'],'r',linewidth=3.0)\n",
    "#plt.plot(hist.history['val_acc'],'b',linewidth=3.0)\n",
    "plt.legend(['Training Accuracy'],fontsize=12)\n",
    "plt.xlabel('Epochs ',fontsize=12)\n",
    "plt.ylabel('Accuracy',fontsize=12)\n",
    "plt.title('Accuracy Curves',fontsize=16)\n",
    "plt.show()\n",
    "\n",
    "\n",
    "loss, accuracy = model2.evaluate(x_test, y_test, verbose=1)\n",
    "print('Accuracy on test set: %f' % (accuracy*100))"
   ]
  },
  {
   "cell_type": "code",
   "execution_count": null,
   "metadata": {},
   "outputs": [],
   "source": []
  }
 ],
 "metadata": {
  "kernelspec": {
   "display_name": "Python 3",
   "language": "python",
   "name": "python3"
  },
  "language_info": {
   "codemirror_mode": {
    "name": "ipython",
    "version": 3
   },
   "file_extension": ".py",
   "mimetype": "text/x-python",
   "name": "python",
   "nbconvert_exporter": "python",
   "pygments_lexer": "ipython3",
   "version": "3.6.3"
  }
 },
 "nbformat": 4,
 "nbformat_minor": 2
}
